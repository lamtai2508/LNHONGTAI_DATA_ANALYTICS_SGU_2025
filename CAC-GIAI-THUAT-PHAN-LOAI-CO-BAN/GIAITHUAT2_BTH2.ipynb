{
  "nbformat": 4,
  "nbformat_minor": 0,
  "metadata": {
    "colab": {
      "provenance": []
    },
    "kernelspec": {
      "name": "python3",
      "display_name": "Python 3"
    },
    "language_info": {
      "name": "python"
    }
  },
  "cells": [
    {
      "cell_type": "code",
      "execution_count": 1,
      "metadata": {
        "colab": {
          "base_uri": "https://localhost:8080/"
        },
        "id": "TG1FDvJY77SB",
        "outputId": "8cf82fe3-8167-4eda-8f35-b2a1d73101f3"
      },
      "outputs": [
        {
          "output_type": "stream",
          "name": "stdout",
          "text": [
            "Cloning into 'LNHONGTAI_DATA_ANALYTICS_SGU_2025'...\n",
            "remote: Enumerating objects: 46, done.\u001b[K\n",
            "remote: Counting objects: 100% (46/46), done.\u001b[K\n",
            "remote: Compressing objects: 100% (31/31), done.\u001b[K\n",
            "remote: Total 46 (delta 10), reused 32 (delta 5), pack-reused 0 (from 0)\u001b[K\n",
            "Receiving objects: 100% (46/46), 22.89 MiB | 13.19 MiB/s, done.\n",
            "Resolving deltas: 100% (10/10), done.\n"
          ]
        }
      ],
      "source": [
        "# git clone repo để lấy data\n",
        "!git clone https://github.com/lamtai2508/LNHONGTAI_DATA_ANALYTICS_SGU_2025.git"
      ]
    },
    {
      "cell_type": "markdown",
      "source": [
        "# SUPPORT VECTOR MACHINE (SVM)\n",
        "\n"
      ],
      "metadata": {
        "id": "58JiJNvsxO1c"
      }
    },
    {
      "cell_type": "markdown",
      "source": [
        "2.2.4 Bài thực hành số 2: Xây dựng mô hình từ giải thuật SVM trên dữ liệu các con thú trong rừng."
      ],
      "metadata": {
        "id": "-hZBxhaLo5WN"
      }
    },
    {
      "cell_type": "markdown",
      "source": [
        "Dữ liệu lấy từ\n",
        "https://www.kaggle.com/code/kareemellithy/animal-condition-predict-svm-knn"
      ],
      "metadata": {
        "id": "uNOjdJBd8S4S"
      }
    },
    {
      "cell_type": "markdown",
      "source": [
        "Bước 1: import những thư viện sẽ sử dụng"
      ],
      "metadata": {
        "id": "wD-coI3Fpe-j"
      }
    },
    {
      "cell_type": "code",
      "source": [
        "# import thư viện\n",
        "import pandas as pd\n",
        "from sklearn.model_selection import train_test_split, GridSearchCV\n",
        "from sklearn.preprocessing import StandardScaler, LabelEncoder\n",
        "from sklearn.svm import SVC\n",
        "from sklearn.metrics import accuracy_score, confusion_matrix, classification_report\n",
        "import matplotlib.pyplot as plt\n",
        "import seaborn as sns"
      ],
      "metadata": {
        "id": "zY9ET4Oh8V1-"
      },
      "execution_count": 2,
      "outputs": []
    },
    {
      "cell_type": "markdown",
      "source": [
        "Bước 2: chuẩn bị dữ liệu"
      ],
      "metadata": {
        "id": "pfESuZAXx9km"
      }
    },
    {
      "cell_type": "code",
      "source": [
        "# lấy dữ liệu\n",
        "data = pd.read_csv('/content/LNHONGTAI_DATA_ANALYTICS_SGU_2025/Data_Sets/data.csv')\n",
        "print(\"Kích thước dữ liệu:\", data.shape)\n",
        "print(data.head())\n",
        "\n",
        "# Chuẩn bị dữ liệu\n",
        "# Mã hóa các cột dạng chuỗi\n",
        "label_encoders = {}\n",
        "for col in data.select_dtypes(include=['object']).columns:\n",
        "    le = LabelEncoder()\n",
        "    data[col] = le.fit_transform(data[col])\n",
        "    label_encoders[col] = le\n",
        "\n",
        "# Nếu tên cột nhãn khác, in ra data.columns để kiểm tra và thay đúng tên.\n",
        "print(\"\\nTên các cột dữ liệu:\", data.columns.tolist())\n",
        "\n",
        "# Thông thường, file gốc từ Kaggle có cột 'class' là nhãn (mức độ điều kiện con thú)\n",
        "target_column = 'AnimalName'  # đổi nếu cần\n",
        "\n",
        "X = data.drop(target_column, axis=1)\n",
        "y = data[target_column]\n",
        "\n",
        "# Chia dữ liệu train/test\n",
        "X_train, X_test, y_train, y_test = train_test_split(X, y, test_size=0.2, random_state=42)\n",
        "\n",
        "# Chuẩn hóa dữ liệu\n",
        "scaler = StandardScaler()\n",
        "X_train = scaler.fit_transform(X_train)\n",
        "X_test = scaler.transform(X_test)"
      ],
      "metadata": {
        "colab": {
          "base_uri": "https://localhost:8080/"
        },
        "id": "aJYAhpic8cou",
        "outputId": "ed087205-9a07-42c5-9427-7156b005bf0c"
      },
      "execution_count": 4,
      "outputs": [
        {
          "output_type": "stream",
          "name": "stdout",
          "text": [
            "Kích thước dữ liệu: (871, 7)\n",
            "  AnimalName symptoms1             symptoms2 symptoms3    symptoms4  \\\n",
            "0        Dog     Fever              Diarrhea  Vomiting  Weight loss   \n",
            "1        Dog     Fever              Diarrhea  Coughing    Tiredness   \n",
            "2        Dog     Fever              Diarrhea  Coughing     Vomiting   \n",
            "3        Dog     Fever  Difficulty breathing  Coughing     Lethargy   \n",
            "4        Dog     Fever              Diarrhea  Coughing     Lethargy   \n",
            "\n",
            "     symptoms5 Dangerous  \n",
            "0  Dehydration       Yes  \n",
            "1        Pains       Yes  \n",
            "2     Anorexia       Yes  \n",
            "3     Sneezing       Yes  \n",
            "4     Blue Eye       Yes  \n",
            "\n",
            "Tên các cột dữ liệu: ['AnimalName', 'symptoms1', 'symptoms2', 'symptoms3', 'symptoms4', 'symptoms5', 'Dangerous']\n"
          ]
        }
      ]
    },
    {
      "cell_type": "markdown",
      "source": [
        "Bước 3: Tạo mô hình SVM với dữ liệu đã chuẩn bị"
      ],
      "metadata": {
        "id": "a40OGSKn2OPL"
      }
    },
    {
      "cell_type": "code",
      "source": [
        "# Huấn luyện mô hình SVM cơ bản\n",
        "svm_model = SVC(kernel='rbf', C=1, gamma='scale', random_state=42)\n",
        "svm_model.fit(X_train, y_train)\n",
        "y_pred = svm_model.predict(X_test)\n",
        "\n",
        "print(\"\\n Độ chính xác ban đầu:\", accuracy_score(y_test, y_pred))"
      ],
      "metadata": {
        "colab": {
          "base_uri": "https://localhost:8080/"
        },
        "id": "6bKY6cSH89YQ",
        "outputId": "b211927f-e482-46ec-c76f-3b5db6eebfb4"
      },
      "execution_count": 5,
      "outputs": [
        {
          "output_type": "stream",
          "name": "stdout",
          "text": [
            "\n",
            "✅ Độ chính xác ban đầu: 0.1657142857142857\n"
          ]
        }
      ]
    },
    {
      "cell_type": "markdown",
      "source": [
        "Bước 5: Tìm tham số kernel tối ưu cho mô hình SVM"
      ],
      "metadata": {
        "id": "EChnw3xW3e0I"
      }
    },
    {
      "cell_type": "code",
      "source": [
        "# Tìm tham số tối ưu bằng GridSearchCV\n",
        "param_grid = {\n",
        "    'C': [0.1, 1, 10, 100],\n",
        "    'gamma': ['scale', 0.01, 0.1, 1],\n",
        "    'kernel': ['linear', 'rbf', 'poly', 'sigmoid']\n",
        "}\n",
        "\n",
        "grid = GridSearchCV(SVC(random_state=42), param_grid, cv=5, scoring='accuracy', n_jobs=-1, verbose=1)\n",
        "grid.fit(X_train, y_train)\n",
        "\n",
        "print(\"\\ Kết quả GridSearchCV:\")\n",
        "print(\"Best Parameters:\", grid.best_params_)\n",
        "print(\"Best Cross-Validation Accuracy:\", grid.best_score_)"
      ],
      "metadata": {
        "colab": {
          "base_uri": "https://localhost:8080/"
        },
        "id": "xDd4DjbL9NLu",
        "outputId": "475271e0-4143-4552-d4e4-c89db8582796"
      },
      "execution_count": 6,
      "outputs": [
        {
          "output_type": "stream",
          "name": "stdout",
          "text": [
            "Fitting 5 folds for each of 64 candidates, totalling 320 fits\n"
          ]
        },
        {
          "output_type": "stream",
          "name": "stderr",
          "text": [
            "/usr/local/lib/python3.12/dist-packages/sklearn/model_selection/_split.py:805: UserWarning: The least populated class in y has only 1 members, which is less than n_splits=5.\n",
            "  warnings.warn(\n"
          ]
        },
        {
          "output_type": "stream",
          "name": "stdout",
          "text": [
            "\n",
            "🔍 Kết quả GridSearchCV:\n",
            "Best Parameters: {'C': 10, 'gamma': 'scale', 'kernel': 'linear'}\n",
            "Best Cross-Validation Accuracy: 0.19395683453237408\n"
          ]
        }
      ]
    }
  ]
}