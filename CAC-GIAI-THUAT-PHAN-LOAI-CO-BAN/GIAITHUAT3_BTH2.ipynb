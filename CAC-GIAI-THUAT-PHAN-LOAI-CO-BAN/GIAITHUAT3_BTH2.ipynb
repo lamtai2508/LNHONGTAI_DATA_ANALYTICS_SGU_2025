{
  "nbformat": 4,
  "nbformat_minor": 0,
  "metadata": {
    "colab": {
      "provenance": []
    },
    "kernelspec": {
      "name": "python3",
      "display_name": "Python 3"
    },
    "language_info": {
      "name": "python"
    }
  },
  "cells": [
    {
      "cell_type": "code",
      "execution_count": 2,
      "metadata": {
        "colab": {
          "base_uri": "https://localhost:8080/"
        },
        "id": "TG1FDvJY77SB",
        "outputId": "126e0573-57d9-484b-9f56-af6a2bfc7796"
      },
      "outputs": [
        {
          "output_type": "stream",
          "name": "stdout",
          "text": [
            "Cloning into 'LNHONGTAI_DATA_ANALYTICS_SGU_2025'...\n",
            "remote: Enumerating objects: 54, done.\u001b[K\n",
            "remote: Counting objects: 100% (54/54), done.\u001b[K\n",
            "remote: Compressing objects: 100% (37/37), done.\u001b[K\n",
            "remote: Total 54 (delta 13), reused 45 (delta 7), pack-reused 0 (from 0)\u001b[K\n",
            "Receiving objects: 100% (54/54), 22.93 MiB | 32.93 MiB/s, done.\n",
            "Resolving deltas: 100% (13/13), done.\n"
          ]
        }
      ],
      "source": [
        "# git clone repo để lấy data\n",
        "!git clone https://github.com/lamtai2508/LNHONGTAI_DATA_ANALYTICS_SGU_2025.git"
      ]
    },
    {
      "cell_type": "markdown",
      "source": [
        "# BAYES NGÂY THƠ (NAÏVE BAYES)\n",
        "\n"
      ],
      "metadata": {
        "id": "58JiJNvsxO1c"
      }
    },
    {
      "cell_type": "markdown",
      "source": [
        "2.3.4 Bài thực hành số 2: Xây dựng mô hình Naïve ngây thơ trên tập dữ liệu mushroom."
      ],
      "metadata": {
        "id": "-hZBxhaLo5WN"
      }
    },
    {
      "cell_type": "markdown",
      "source": [
        "Dữ liệu lấy từ\n",
        "https://www.kaggle.com/datasets/uciml/mushroom-classification/data"
      ],
      "metadata": {
        "id": "uNOjdJBd8S4S"
      }
    },
    {
      "cell_type": "markdown",
      "source": [
        "Bước 1: import những thư viện sẽ sử dụng"
      ],
      "metadata": {
        "id": "wD-coI3Fpe-j"
      }
    },
    {
      "cell_type": "code",
      "source": [
        "# Import thư viện\n",
        "import pandas as pd\n",
        "from sklearn.model_selection import train_test_split\n",
        "from sklearn.preprocessing import LabelEncoder\n",
        "from sklearn.naive_bayes import CategoricalNB\n",
        "from sklearn.metrics import accuracy_score, confusion_matrix, classification_report\n",
        "import seaborn as sns\n",
        "import matplotlib.pyplot as plt"
      ],
      "metadata": {
        "id": "W86LKaF-egpy"
      },
      "execution_count": 4,
      "outputs": []
    },
    {
      "cell_type": "markdown",
      "source": [
        "Bước 2: chuẩn bị dữ liệu"
      ],
      "metadata": {
        "id": "pfESuZAXx9km"
      }
    },
    {
      "cell_type": "code",
      "source": [
        "# Đọc dữ liệu\n",
        "df = pd.read_csv('/content/LNHONGTAI_DATA_ANALYTICS_SGU_2025/Data_Sets/mushrooms.csv')\n",
        "# Mã hóa các thuộc tính dạng chữ\n",
        "le = LabelEncoder()\n",
        "for col in df.columns:\n",
        "    df[col] = le.fit_transform(df[col])\n",
        "\n",
        "# Biến đầu ra: class (0 = edible, 1 = poisonous)\n",
        "X = df.drop('class', axis=1)\n",
        "y = df['class']\n",
        "\n",
        "# Chia dữ liệu train, test\n",
        "X_train, X_test, y_train, y_test = train_test_split(\n",
        "    X, y, test_size=0.2, random_state=42\n",
        ")\n",
        "print(df.head())"
      ],
      "metadata": {
        "colab": {
          "base_uri": "https://localhost:8080/"
        },
        "id": "ez_xciT1eiw4",
        "outputId": "c5471b42-ef0e-4993-e6ce-a2edd425d527"
      },
      "execution_count": 6,
      "outputs": [
        {
          "output_type": "stream",
          "name": "stdout",
          "text": [
            "   class  cap-shape  cap-surface  cap-color  bruises  odor  gill-attachment  \\\n",
            "0      1          5            2          4        1     6                1   \n",
            "1      0          5            2          9        1     0                1   \n",
            "2      0          0            2          8        1     3                1   \n",
            "3      1          5            3          8        1     6                1   \n",
            "4      0          5            2          3        0     5                1   \n",
            "\n",
            "   gill-spacing  gill-size  gill-color  ...  stalk-surface-below-ring  \\\n",
            "0             0          1           4  ...                         2   \n",
            "1             0          0           4  ...                         2   \n",
            "2             0          0           5  ...                         2   \n",
            "3             0          1           5  ...                         2   \n",
            "4             1          0           4  ...                         2   \n",
            "\n",
            "   stalk-color-above-ring  stalk-color-below-ring  veil-type  veil-color  \\\n",
            "0                       7                       7          0           2   \n",
            "1                       7                       7          0           2   \n",
            "2                       7                       7          0           2   \n",
            "3                       7                       7          0           2   \n",
            "4                       7                       7          0           2   \n",
            "\n",
            "   ring-number  ring-type  spore-print-color  population  habitat  \n",
            "0            1          4                  2           3        5  \n",
            "1            1          4                  3           2        1  \n",
            "2            1          4                  3           2        3  \n",
            "3            1          4                  2           3        5  \n",
            "4            1          0                  3           0        1  \n",
            "\n",
            "[5 rows x 23 columns]\n"
          ]
        }
      ]
    },
    {
      "cell_type": "markdown",
      "source": [
        "Bước 3: Xây dựng mô hình Naïve Bayes"
      ],
      "metadata": {
        "id": "H0OScxD3gpVc"
      }
    },
    {
      "cell_type": "code",
      "source": [
        "# Xây dựng mô hình Naïve Bayes\n",
        "model = CategoricalNB()\n",
        "model.fit(X_train, y_train)\n",
        "\n",
        "# Dự đoán\n",
        "y_pred = model.predict(X_test)"
      ],
      "metadata": {
        "id": "Uq1OwASDg2VY"
      },
      "execution_count": 8,
      "outputs": []
    },
    {
      "cell_type": "markdown",
      "source": [
        "Bước 4: Đánh giá hiệu quả của mô hình"
      ],
      "metadata": {
        "id": "OrLxc-33hCpi"
      }
    },
    {
      "cell_type": "code",
      "source": [
        "print(\"🎯 Accuracy:\", accuracy_score(y_test, y_pred))\n",
        "print(\"\\n📋 Classification Report:\\n\", classification_report(y_test, y_pred))\n",
        "\n",
        "# Ma trận nhầm lẫn\n",
        "cm = confusion_matrix(y_test, y_pred)\n",
        "sns.heatmap(cm, annot=True, fmt='d', cmap='Greens',\n",
        "            xticklabels=['Ăn được', 'Độc'],\n",
        "            yticklabels=['Ăn được', 'Độc'])\n",
        "plt.title(\"🍄 Confusion Matrix - Mushroom Classification\")\n",
        "plt.show()"
      ],
      "metadata": {
        "colab": {
          "base_uri": "https://localhost:8080/",
          "height": 697
        },
        "id": "oFsROqxIhDzG",
        "outputId": "5b47234e-da04-4475-b485-1737376c04ed"
      },
      "execution_count": 9,
      "outputs": [
        {
          "output_type": "stream",
          "name": "stdout",
          "text": [
            "🎯 Accuracy: 0.9507692307692308\n",
            "\n",
            "📋 Classification Report:\n",
            "               precision    recall  f1-score   support\n",
            "\n",
            "           0       0.92      0.99      0.95       843\n",
            "           1       0.99      0.91      0.95       782\n",
            "\n",
            "    accuracy                           0.95      1625\n",
            "   macro avg       0.96      0.95      0.95      1625\n",
            "weighted avg       0.95      0.95      0.95      1625\n",
            "\n"
          ]
        },
        {
          "output_type": "stream",
          "name": "stderr",
          "text": [
            "/usr/local/lib/python3.12/dist-packages/IPython/core/pylabtools.py:151: UserWarning: Glyph 127812 (\\N{MUSHROOM}) missing from font(s) DejaVu Sans.\n",
            "  fig.canvas.print_figure(bytes_io, **kw)\n"
          ]
        },
        {
          "output_type": "display_data",
          "data": {
            "text/plain": [
              "<Figure size 640x480 with 2 Axes>"
            ],
            "image/png": "[encoded data removed]"
          },
          "metadata": {}
        }
      ]
    }
  ]
}