{
  "nbformat": 4,
  "nbformat_minor": 0,
  "metadata": {
    "colab": {
      "provenance": []
    },
    "kernelspec": {
      "name": "python3",
      "display_name": "Python 3"
    },
    "language_info": {
      "name": "python"
    }
  },
  "cells": [
    {
      "cell_type": "code",
      "execution_count": 1,
      "metadata": {
        "colab": {
          "base_uri": "https://localhost:8080/"
        },
        "id": "TG1FDvJY77SB",
        "outputId": "354defc1-1dc1-46e6-b856-26a6730f31d9"
      },
      "outputs": [
        {
          "output_type": "stream",
          "name": "stdout",
          "text": [
            "Cloning into 'LNHONGTAI_DATA_ANALYTICS_SGU_2025'...\n",
            "remote: Enumerating objects: 54, done.\u001b[K\n",
            "remote: Counting objects: 100% (54/54), done.\u001b[K\n",
            "remote: Compressing objects: 100% (39/39), done.\u001b[K\n",
            "remote: Total 54 (delta 13), reused 37 (delta 5), pack-reused 0 (from 0)\u001b[K\n",
            "Receiving objects: 100% (54/54), 22.93 MiB | 10.13 MiB/s, done.\n",
            "Resolving deltas: 100% (13/13), done.\n"
          ]
        }
      ],
      "source": [
        "# git clone repo để lấy data\n",
        "!git clone https://github.com/lamtai2508/LNHONGTAI_DATA_ANALYTICS_SGU_2025.git"
      ]
    },
    {
      "cell_type": "markdown",
      "source": [
        "# BAYES NGÂY THƠ (NAÏVE BAYES)\n",
        "\n"
      ],
      "metadata": {
        "id": "58JiJNvsxO1c"
      }
    },
    {
      "cell_type": "markdown",
      "source": [
        "2.3.3 Bài thực hành số 1: Xây dựng mô hình Naïve ngây thơ trên tập dữ liệu hành vi của khách hàng"
      ],
      "metadata": {
        "id": "-hZBxhaLo5WN"
      }
    },
    {
      "cell_type": "markdown",
      "source": [
        "Dữ liệu lấy từ\n",
        "https://www.kaggle.com/code/arezalo/customer-behaviour-prediction-naive-bayes"
      ],
      "metadata": {
        "id": "uNOjdJBd8S4S"
      }
    },
    {
      "cell_type": "markdown",
      "source": [
        "Bước 1: import những thư viện sẽ sử dụng"
      ],
      "metadata": {
        "id": "wD-coI3Fpe-j"
      }
    },
    {
      "cell_type": "code",
      "source": [
        "# Import thư viện cần thiết\n",
        "import pandas as pd\n",
        "from sklearn.model_selection import train_test_split\n",
        "from sklearn.preprocessing import LabelEncoder\n",
        "from sklearn.naive_bayes import GaussianNB\n",
        "from sklearn.metrics import accuracy_score, confusion_matrix, classification_report\n",
        "import seaborn as sns\n",
        "import matplotlib.pyplot as plt"
      ],
      "metadata": {
        "id": "BSyoZElvdNwR"
      },
      "execution_count": 9,
      "outputs": []
    },
    {
      "cell_type": "markdown",
      "source": [
        "Bước 2: chuẩn bị dữ liệu"
      ],
      "metadata": {
        "id": "pfESuZAXx9km"
      }
    },
    {
      "cell_type": "code",
      "source": [
        "# Đọc dữ liệu\n",
        "df = pd.read_csv('/content/LNHONGTAI_DATA_ANALYTICS_SGU_2025/Data_Sets/Customer_Behaviour.csv')  # đổi tên file theo dataset Kaggle\n",
        "\n",
        "# Kiểm tra dữ liệu bị thiếu\n",
        "print(df.isnull().sum())\n",
        "\n",
        "# Chuyển đổi dữ liệu dạng chữ thành số\n",
        "le = LabelEncoder()\n",
        "for col in df.select_dtypes('object').columns:\n",
        "    df[col] = le.fit_transform(df[col])\n",
        "\n",
        "print(\" Sau khi mã hóa:\")\n",
        "print(df.head())\n",
        "\n",
        "# Giả sử cột mục tiêu là 'Purchased'\n",
        "X = df.drop('Purchased', axis=1)\n",
        "y = df['Purchased']\n",
        "\n",
        "# Chia dữ liệu train/test\n",
        "X_train, X_test, y_train, y_test = train_test_split(\n",
        "    X, y, test_size=0.2, random_state=42\n",
        ")\n"
      ],
      "metadata": {
        "colab": {
          "base_uri": "https://localhost:8080/"
        },
        "id": "gxUp7u3xdPNh",
        "outputId": "aec415c9-4375-4ea1-cee9-42b40100e15e"
      },
      "execution_count": 10,
      "outputs": [
        {
          "output_type": "stream",
          "name": "stdout",
          "text": [
            "User ID            0\n",
            "Gender             0\n",
            "Age                0\n",
            "EstimatedSalary    0\n",
            "Purchased          0\n",
            "dtype: int64\n",
            " Sau khi mã hóa:\n",
            "    User ID  Gender  Age  EstimatedSalary  Purchased\n",
            "0  15624510       1   19            19000          0\n",
            "1  15810944       1   35            20000          0\n",
            "2  15668575       0   26            43000          0\n",
            "3  15603246       0   27            57000          0\n",
            "4  15804002       1   19            76000          0\n"
          ]
        }
      ]
    },
    {
      "cell_type": "markdown",
      "source": [
        "Bước 3: Xây dựng mô hình Naïve Bayes"
      ],
      "metadata": {
        "id": "cqu5bcuXd5H9"
      }
    },
    {
      "cell_type": "code",
      "source": [
        "# Xây dựng mô hình Naïve Bayes\n",
        "model = GaussianNB()\n",
        "model.fit(X_train, y_train)\n",
        "\n",
        "# Dự đoán\n",
        "y_pred = model.predict(X_test)"
      ],
      "metadata": {
        "id": "fHUjkYbJd4bA"
      },
      "execution_count": 13,
      "outputs": []
    },
    {
      "cell_type": "markdown",
      "source": [
        "Bước 4: Đánh giá hiệu quả của mô hình"
      ],
      "metadata": {
        "id": "M5lrPHLwd7Qz"
      }
    },
    {
      "cell_type": "code",
      "source": [
        "print(\"🎯 Accuracy:\", accuracy_score(y_test, y_pred))\n",
        "print(\"\\n📋 Classification Report:\\n\", classification_report(y_test, y_pred))\n",
        "\n",
        "# Ma trận nhầm lẫn\n",
        "cm = confusion_matrix(y_test, y_pred)\n",
        "sns.heatmap(cm, annot=True, fmt='d', cmap='Blues',\n",
        "            xticklabels=['Không mua', 'Mua'],\n",
        "            yticklabels=['Không mua', 'Mua'])\n",
        "plt.title(\"📊 Confusion Matrix - Customer Behaviour\")\n",
        "plt.show()"
      ],
      "metadata": {
        "colab": {
          "base_uri": "https://localhost:8080/",
          "height": 696
        },
        "id": "IbHjGsIvd77L",
        "outputId": "950ec937-e806-4806-a639-68a55df26c34"
      },
      "execution_count": 16,
      "outputs": [
        {
          "output_type": "stream",
          "name": "stdout",
          "text": [
            "🎯 Accuracy: 0.925\n",
            "\n",
            "📋 Classification Report:\n",
            "               precision    recall  f1-score   support\n",
            "\n",
            "           0       0.91      0.98      0.94        52\n",
            "           1       0.96      0.82      0.88        28\n",
            "\n",
            "    accuracy                           0.93        80\n",
            "   macro avg       0.93      0.90      0.91        80\n",
            "weighted avg       0.93      0.93      0.92        80\n",
            "\n"
          ]
        },
        {
          "output_type": "stream",
          "name": "stderr",
          "text": [
            "/usr/local/lib/python3.12/dist-packages/IPython/core/pylabtools.py:151: UserWarning: Glyph 128202 (\\N{BAR CHART}) missing from font(s) DejaVu Sans.\n",
            "  fig.canvas.print_figure(bytes_io, **kw)\n"
          ]
        },
        {
          "output_type": "display_data",
          "data": {
            "text/plain": [
              "<Figure size 640x480 with 2 Axes>"
            ],
            "image/png": "[encoded data removed]"
          },
          "metadata": {}
        }
      ]
    }
  ]
}